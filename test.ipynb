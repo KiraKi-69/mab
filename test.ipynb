{
 "cells": [
  {
   "cell_type": "markdown",
   "id": "260bbfc5",
   "metadata": {},
   "source": [
    "# Подготовка данных для обучения"
   ]
  },
  {
   "cell_type": "code",
   "execution_count": 130,
   "id": "7b5a09f0",
   "metadata": {
    "ExecuteTime": {
     "end_time": "2023-07-03T11:12:53.163536669Z",
     "start_time": "2023-07-03T11:12:53.101940131Z"
    }
   },
   "outputs": [],
   "source": [
    "import pandas as pd\n",
    "\n",
    "data_path = 'data/credit_history_all.csv'\n",
    "\n",
    "df = pd.read_csv(data_path)"
   ]
  },
  {
   "cell_type": "code",
   "execution_count": 131,
   "id": "22c8ac6a",
   "metadata": {
    "ExecuteTime": {
     "end_time": "2023-07-03T11:12:53.196124989Z",
     "start_time": "2023-07-03T11:12:53.195890575Z"
    }
   },
   "outputs": [],
   "source": [
    "del df['created_timestamp']\n",
    "del df['event_timestamp']\n",
    "del df['loan_id']\n",
    "del df['zipcode']\n",
    "del df['dob_ssn']"
   ]
  },
  {
   "cell_type": "code",
   "execution_count": 132,
   "id": "ed6f83be",
   "metadata": {
    "ExecuteTime": {
     "end_time": "2023-07-03T11:12:53.196974561Z",
     "start_time": "2023-07-03T11:12:53.196256769Z"
    }
   },
   "outputs": [
    {
     "data": {
      "text/html": [
       "<div>\n",
       "<style scoped>\n",
       "    .dataframe tbody tr th:only-of-type {\n",
       "        vertical-align: middle;\n",
       "    }\n",
       "\n",
       "    .dataframe tbody tr th {\n",
       "        vertical-align: top;\n",
       "    }\n",
       "\n",
       "    .dataframe thead th {\n",
       "        text-align: right;\n",
       "    }\n",
       "</style>\n",
       "<table border=\"1\" class=\"dataframe\">\n",
       "  <thead>\n",
       "    <tr style=\"text-align: right;\">\n",
       "      <th></th>\n",
       "      <th>person_age</th>\n",
       "      <th>person_income</th>\n",
       "      <th>person_home_ownership</th>\n",
       "      <th>person_emp_length</th>\n",
       "      <th>loan_intent</th>\n",
       "      <th>loan_amnt</th>\n",
       "      <th>loan_int_rate</th>\n",
       "      <th>loan_status</th>\n",
       "      <th>city</th>\n",
       "      <th>state</th>\n",
       "      <th>...</th>\n",
       "      <th>total_wages</th>\n",
       "      <th>credit_card_due</th>\n",
       "      <th>mortgage_due</th>\n",
       "      <th>student_loan_due</th>\n",
       "      <th>vehicle_loan_due</th>\n",
       "      <th>hard_pulls</th>\n",
       "      <th>missed_payments_2y</th>\n",
       "      <th>missed_payments_1y</th>\n",
       "      <th>missed_payments_6m</th>\n",
       "      <th>bankruptcies</th>\n",
       "    </tr>\n",
       "  </thead>\n",
       "  <tbody>\n",
       "    <tr>\n",
       "      <th>0</th>\n",
       "      <td>52</td>\n",
       "      <td>69996</td>\n",
       "      <td>OWN</td>\n",
       "      <td>3.0</td>\n",
       "      <td>PERSONAL</td>\n",
       "      <td>12000</td>\n",
       "      <td>11.11</td>\n",
       "      <td>0</td>\n",
       "      <td>CUMMINGS</td>\n",
       "      <td>KS</td>\n",
       "      <td>...</td>\n",
       "      <td>9617849</td>\n",
       "      <td>7649</td>\n",
       "      <td>779433</td>\n",
       "      <td>28579</td>\n",
       "      <td>3583</td>\n",
       "      <td>0</td>\n",
       "      <td>0</td>\n",
       "      <td>0</td>\n",
       "      <td>0</td>\n",
       "      <td>0</td>\n",
       "    </tr>\n",
       "    <tr>\n",
       "      <th>1</th>\n",
       "      <td>61</td>\n",
       "      <td>10636</td>\n",
       "      <td>RENT</td>\n",
       "      <td>3.0</td>\n",
       "      <td>PERSONAL</td>\n",
       "      <td>4000</td>\n",
       "      <td>12.21</td>\n",
       "      <td>1</td>\n",
       "      <td>CRESSON</td>\n",
       "      <td>TX</td>\n",
       "      <td>...</td>\n",
       "      <td>38291019</td>\n",
       "      <td>5101</td>\n",
       "      <td>1877182</td>\n",
       "      <td>32008</td>\n",
       "      <td>20745</td>\n",
       "      <td>6</td>\n",
       "      <td>1</td>\n",
       "      <td>3</td>\n",
       "      <td>0</td>\n",
       "      <td>0</td>\n",
       "    </tr>\n",
       "    <tr>\n",
       "      <th>2</th>\n",
       "      <td>36</td>\n",
       "      <td>69000</td>\n",
       "      <td>RENT</td>\n",
       "      <td>0.0</td>\n",
       "      <td>MEDICAL</td>\n",
       "      <td>15600</td>\n",
       "      <td>10.99</td>\n",
       "      <td>0</td>\n",
       "      <td>PLAINVILLE</td>\n",
       "      <td>GA</td>\n",
       "      <td>...</td>\n",
       "      <td>23478174</td>\n",
       "      <td>4223</td>\n",
       "      <td>1142978</td>\n",
       "      <td>24020</td>\n",
       "      <td>11711</td>\n",
       "      <td>3</td>\n",
       "      <td>5</td>\n",
       "      <td>1</td>\n",
       "      <td>1</td>\n",
       "      <td>2</td>\n",
       "    </tr>\n",
       "    <tr>\n",
       "      <th>3</th>\n",
       "      <td>36</td>\n",
       "      <td>48686</td>\n",
       "      <td>RENT</td>\n",
       "      <td>21.0</td>\n",
       "      <td>MEDICAL</td>\n",
       "      <td>12000</td>\n",
       "      <td>13.99</td>\n",
       "      <td>0</td>\n",
       "      <td>CLINTON</td>\n",
       "      <td>NC</td>\n",
       "      <td>...</td>\n",
       "      <td>35505191</td>\n",
       "      <td>6993</td>\n",
       "      <td>592528</td>\n",
       "      <td>40529</td>\n",
       "      <td>17508</td>\n",
       "      <td>1</td>\n",
       "      <td>1</td>\n",
       "      <td>0</td>\n",
       "      <td>0</td>\n",
       "      <td>0</td>\n",
       "    </tr>\n",
       "    <tr>\n",
       "      <th>4</th>\n",
       "      <td>36</td>\n",
       "      <td>44000</td>\n",
       "      <td>RENT</td>\n",
       "      <td>4.0</td>\n",
       "      <td>DEBTCONSOLIDATION</td>\n",
       "      <td>8000</td>\n",
       "      <td>17.49</td>\n",
       "      <td>1</td>\n",
       "      <td>NASHVILLE</td>\n",
       "      <td>TN</td>\n",
       "      <td>...</td>\n",
       "      <td>571965786</td>\n",
       "      <td>1552</td>\n",
       "      <td>1786677</td>\n",
       "      <td>26664</td>\n",
       "      <td>19749</td>\n",
       "      <td>8</td>\n",
       "      <td>2</td>\n",
       "      <td>0</td>\n",
       "      <td>1</td>\n",
       "      <td>0</td>\n",
       "    </tr>\n",
       "  </tbody>\n",
       "</table>\n",
       "<p>5 rows × 23 columns</p>\n",
       "</div>"
      ],
      "text/plain": [
       "   person_age  person_income person_home_ownership  person_emp_length  \\\n",
       "0          52          69996                   OWN                3.0   \n",
       "1          61          10636                  RENT                3.0   \n",
       "2          36          69000                  RENT                0.0   \n",
       "3          36          48686                  RENT               21.0   \n",
       "4          36          44000                  RENT                4.0   \n",
       "\n",
       "         loan_intent  loan_amnt  loan_int_rate  loan_status        city state  \\\n",
       "0           PERSONAL      12000          11.11            0    CUMMINGS    KS   \n",
       "1           PERSONAL       4000          12.21            1     CRESSON    TX   \n",
       "2            MEDICAL      15600          10.99            0  PLAINVILLE    GA   \n",
       "3            MEDICAL      12000          13.99            0     CLINTON    NC   \n",
       "4  DEBTCONSOLIDATION       8000          17.49            1   NASHVILLE    TN   \n",
       "\n",
       "   ... total_wages  credit_card_due  mortgage_due  student_loan_due  \\\n",
       "0  ...     9617849             7649        779433             28579   \n",
       "1  ...    38291019             5101       1877182             32008   \n",
       "2  ...    23478174             4223       1142978             24020   \n",
       "3  ...    35505191             6993        592528             40529   \n",
       "4  ...   571965786             1552       1786677             26664   \n",
       "\n",
       "   vehicle_loan_due  hard_pulls  missed_payments_2y  missed_payments_1y  \\\n",
       "0              3583           0                   0                   0   \n",
       "1             20745           6                   1                   3   \n",
       "2             11711           3                   5                   1   \n",
       "3             17508           1                   1                   0   \n",
       "4             19749           8                   2                   0   \n",
       "\n",
       "   missed_payments_6m  bankruptcies  \n",
       "0                   0             0  \n",
       "1                   0             0  \n",
       "2                   1             2  \n",
       "3                   0             0  \n",
       "4                   1             0  \n",
       "\n",
       "[5 rows x 23 columns]"
      ]
     },
     "execution_count": 132,
     "metadata": {},
     "output_type": "execute_result"
    }
   ],
   "source": [
    "df.head()"
   ]
  },
  {
   "cell_type": "markdown",
   "id": "e567023c",
   "metadata": {},
   "source": [
    "Для проверки в пайплайне с энкодером"
   ]
  },
  {
   "cell_type": "code",
   "execution_count": 133,
   "id": "28f2bf89",
   "metadata": {
    "ExecuteTime": {
     "end_time": "2023-07-03T11:12:53.197076755Z",
     "start_time": "2023-07-03T11:12:53.196474212Z"
    }
   },
   "outputs": [],
   "source": [
    "X = df[df.columns.drop(\"loan_status\")].copy()\n",
    "y = df[[\"loan_status\"]].copy()"
   ]
  },
  {
   "cell_type": "code",
   "execution_count": 134,
   "id": "23fa8cae",
   "metadata": {
    "ExecuteTime": {
     "end_time": "2023-07-03T11:12:53.197218173Z",
     "start_time": "2023-07-03T11:12:53.196571827Z"
    }
   },
   "outputs": [
    {
     "data": {
      "text/plain": [
       "['person_age',\n",
       " 'person_income',\n",
       " 'person_home_ownership',\n",
       " 'person_emp_length',\n",
       " 'loan_intent',\n",
       " 'loan_amnt',\n",
       " 'loan_int_rate',\n",
       " 'city',\n",
       " 'state',\n",
       " 'location_type',\n",
       " 'tax_returns_filed',\n",
       " 'population',\n",
       " 'total_wages',\n",
       " 'credit_card_due',\n",
       " 'mortgage_due',\n",
       " 'student_loan_due',\n",
       " 'vehicle_loan_due',\n",
       " 'hard_pulls',\n",
       " 'missed_payments_2y',\n",
       " 'missed_payments_1y',\n",
       " 'missed_payments_6m',\n",
       " 'bankruptcies']"
      ]
     },
     "execution_count": 134,
     "metadata": {},
     "output_type": "execute_result"
    }
   ],
   "source": [
    "columns = list(X.columns)\n",
    "columns"
   ]
  },
  {
   "cell_type": "code",
   "execution_count": 135,
   "id": "a3e2abc3",
   "metadata": {
    "ExecuteTime": {
     "end_time": "2023-07-03T11:12:53.197369310Z",
     "start_time": "2023-07-03T11:12:53.196740747Z"
    }
   },
   "outputs": [
    {
     "data": {
      "text/plain": [
       "array([[52, 69996, 'OWN', ..., 0, 0, 0],\n",
       "       [61, 10636, 'RENT', ..., 3, 0, 0],\n",
       "       [36, 69000, 'RENT', ..., 1, 1, 2],\n",
       "       ...,\n",
       "       [24, 200000, 'MORTGAGE', ..., 0, 0, 0],\n",
       "       [23, 74000, 'RENT', ..., 1, 0, 0],\n",
       "       [23, 12996, 'OWN', ..., 0, 0, 2]], dtype=object)"
      ]
     },
     "execution_count": 135,
     "metadata": {},
     "output_type": "execute_result"
    }
   ],
   "source": [
    "X = X.values\n",
    "X"
   ]
  },
  {
   "cell_type": "code",
   "execution_count": 136,
   "id": "0e742fa3",
   "metadata": {
    "ExecuteTime": {
     "end_time": "2023-07-03T11:12:53.197504245Z",
     "start_time": "2023-07-03T11:12:53.196914447Z"
    }
   },
   "outputs": [
    {
     "data": {
      "text/plain": [
       "array([[0],\n",
       "       [1],\n",
       "       [0],\n",
       "       ...,\n",
       "       [0],\n",
       "       [1],\n",
       "       [1]])"
      ]
     },
     "execution_count": 136,
     "metadata": {},
     "output_type": "execute_result"
    }
   ],
   "source": [
    "y = y.values\n",
    "y"
   ]
  },
  {
   "cell_type": "code",
   "execution_count": 137,
   "id": "ff3dfa49",
   "metadata": {
    "ExecuteTime": {
     "end_time": "2023-07-03T11:12:53.197607662Z",
     "start_time": "2023-07-03T11:12:53.197036218Z"
    }
   },
   "outputs": [
    {
     "data": {
      "text/plain": [
       "28638"
      ]
     },
     "execution_count": 137,
     "metadata": {},
     "output_type": "execute_result"
    }
   ],
   "source": [
    "len(y)"
   ]
  },
  {
   "cell_type": "markdown",
   "id": "9867fc09",
   "metadata": {},
   "source": [
    "# Инициализируем модели"
   ]
  },
  {
   "cell_type": "code",
   "execution_count": 138,
   "id": "15f6c01e",
   "metadata": {
    "ExecuteTime": {
     "end_time": "2023-07-03T11:12:53.267867561Z",
     "start_time": "2023-07-03T11:12:53.197271664Z"
    }
   },
   "outputs": [],
   "source": [
    "import pandas as pd\n",
    "from sklearn.tree import DecisionTreeClassifier\n",
    "from sklearn.preprocessing import OrdinalEncoder\n",
    "\n",
    "class DTCModel(object):  \n",
    "    \n",
    "    def __init__(self):\n",
    "        \n",
    "        self.categorical_features = [\n",
    "            \"person_home_ownership\",\n",
    "            \"loan_intent\",\n",
    "            \"city\",\n",
    "            \"state\",\n",
    "            \"location_type\",\n",
    "        ]\n",
    "        \n",
    "        self.encoder = joblib.load(\"encoder.pkl\")\n",
    "        \n",
    "        print(\"Encoder loaded\")\n",
    "        \n",
    "        self.model = joblib.load(\"DTC.pkl\")\n",
    "        \n",
    "        print(\"Model loaded\")\n",
    "        \n",
    "        self.cm = {\"tp\": 0, \"fp\": 0, \"tn\": 0, \"fn\": 0}\n",
    "\n",
    "        self.tries = 0\n",
    "        self.success = 0\n",
    "        self.value = 0\n",
    "        \n",
    "\n",
    "    def predict(self,X,features_names):\n",
    "\n",
    "        df = pd.DataFrame(X, columns=features_names)\n",
    "        \n",
    "        df[self.categorical_features] = self.encoder.transform(df[self.categorical_features])\n",
    "        df = df.reindex(sorted(df.columns), axis=1)\n",
    "        \n",
    "        predictions = self.model.predict(df)\n",
    "        \n",
    "        return predictions\n",
    "\n",
    "    def send_feedback(self, features, feature_names, reward, truth, routing=None):\n",
    "        print(\"DTC model send-feedback entered\")\n",
    "        print(f\"Truth: {truth}, Reward: {reward}\")\n",
    "\n",
    "        if reward == 1:\n",
    "            if truth == 1:\n",
    "                self.cm[\"tp\"] += 1\n",
    "            if truth == 0:\n",
    "                self.cm[\"tn\"] += 1\n",
    "        if reward == 0:\n",
    "            if truth == 1:\n",
    "                self.cm[\"fn\"] += 1\n",
    "            if truth == 0:\n",
    "                self.cm[\"fp\"] += 1\n",
    "\n",
    "        self.tries += 1\n",
    "        self.success = self.success + 1 if reward else self.success\n",
    "        self.value = self.success / self.tries\n",
    "\n",
    "        print(self.cm)\n",
    "        print(\n",
    "            \"Tries: %s, successes: %s, values: %s\", self.tries, self.success, self.value\n",
    "        )\n",
    "\n",
    "    def metrics(self):\n",
    "        tp = {\n",
    "            \"type\": \"GAUGE\",\n",
    "            \"key\": \"true_pos_total\",\n",
    "            \"value\": self.cm[\"tp\"],\n",
    "            \"tags\": {\"branch_name\": \"DTC\"},\n",
    "        }\n",
    "        tn = {\n",
    "            \"type\": \"GAUGE\",\n",
    "            \"key\": \"true_neg_total\",\n",
    "            \"value\": self.cm[\"tn\"],\n",
    "            \"tags\": {\"branch_name\": \"DTC\"},\n",
    "        }\n",
    "        fp = {\n",
    "            \"type\": \"GAUGE\",\n",
    "            \"key\": \"false_pos_total\",\n",
    "            \"value\": self.cm[\"fp\"],\n",
    "            \"tags\": {\"branch_name\": \"DTC\"},\n",
    "        }\n",
    "        fn = {\n",
    "            \"type\": \"GAUGE\",\n",
    "            \"key\": \"false_neg_total\",\n",
    "            \"value\": self.cm[\"fn\"],\n",
    "            \"tags\": {\"branch_name\": \"DTC\"},\n",
    "        }\n",
    "\n",
    "        value = {\n",
    "            \"type\": \"GAUGE\",\n",
    "            \"key\": \"branch_value\",\n",
    "            \"value\": self.value,\n",
    "            \"tags\": {\"branch_name\": \"DTC\"},\n",
    "        }\n",
    "        success = {\n",
    "            \"type\": \"GAUGE\",\n",
    "            \"key\": \"n_success_total\",\n",
    "            \"value\": self.success,\n",
    "            \"tags\": {\"branch_name\": \"DTC\"},\n",
    "        }\n",
    "        tries = {\n",
    "            \"type\": \"GAUGE\",\n",
    "            \"key\": \"n_tries_total\",\n",
    "            \"value\": self.tries,\n",
    "            \"tags\": {\"branch_name\": \"DTC\"},\n",
    "        }\n",
    "\n",
    "        return [tp, tn, fp, fn, value, success, tries]"
   ]
  },
  {
   "cell_type": "code",
   "execution_count": 139,
   "id": "cd0c14dc",
   "metadata": {
    "ExecuteTime": {
     "end_time": "2023-07-03T11:12:53.268031171Z",
     "start_time": "2023-07-03T11:12:53.238824396Z"
    }
   },
   "outputs": [],
   "source": [
    "import pandas as pd\n",
    "from sklearn.ensemble import GradientBoostingClassifier\n",
    "from sklearn.preprocessing import OrdinalEncoder\n",
    "\n",
    "class GBCModel(object):  \n",
    "    \n",
    "    def __init__(self):\n",
    "        \n",
    "        self.categorical_features = [\n",
    "            \"person_home_ownership\",\n",
    "            \"loan_intent\",\n",
    "            \"city\",\n",
    "            \"state\",\n",
    "            \"location_type\",\n",
    "        ]\n",
    "        \n",
    "        self.encoder = joblib.load(\"encoder.pkl\")\n",
    "        \n",
    "        print(\"Encoder loaded\")\n",
    "        \n",
    "        self.model = joblib.load(\"GBC.pkl\")\n",
    "        \n",
    "        print(\"Model loaded\")\n",
    "        \n",
    "        self.cm = {\"tp\": 0, \"fp\": 0, \"tn\": 0, \"fn\": 0}\n",
    "\n",
    "        self.tries = 0\n",
    "        self.success = 0\n",
    "        self.value = 0\n",
    "\n",
    "    def predict(self,X,features_names):\n",
    "\n",
    "        df = pd.DataFrame(X, columns=features_names)\n",
    "        \n",
    "        df[self.categorical_features] = self.encoder.transform(df[self.categorical_features])\n",
    "        df = df.reindex(sorted(df.columns), axis=1)\n",
    "        \n",
    "        predictions = self.model.predict(df)\n",
    "        \n",
    "        print(predictions)\n",
    "        \n",
    "        return predictions\n",
    "\n",
    "    def send_feedback(self, features, feature_names, reward, truth, routing=None):\n",
    "        print(\"GBC model send-feedback entered\")\n",
    "        print(f\"Truth: {truth}, Reward: {reward}\")\n",
    "\n",
    "        if reward == 1:\n",
    "            if truth == 1:\n",
    "                self.cm[\"tp\"] += 1\n",
    "            if truth == 0:\n",
    "                self.cm[\"tn\"] += 1\n",
    "        if reward == 0:\n",
    "            if truth == 1:\n",
    "                self.cm[\"fn\"] += 1\n",
    "            if truth == 0:\n",
    "                self.cm[\"fp\"] += 1\n",
    "\n",
    "        self.tries += 1\n",
    "        self.success = self.success + 1 if reward else self.success\n",
    "        self.value = self.success / self.tries\n",
    "\n",
    "        print(self.cm)\n",
    "        print(\n",
    "            \"Tries: %s, successes: %s, values: %s\", self.tries, self.success, self.value\n",
    "        )\n",
    "\n",
    "    def metrics(self):\n",
    "        tp = {\n",
    "            \"type\": \"GAUGE\",\n",
    "            \"key\": \"true_pos_total\",\n",
    "            \"value\": self.cm[\"tp\"],\n",
    "            \"tags\": {\"branch_name\": \"GBC\"},\n",
    "        }\n",
    "        tn = {\n",
    "            \"type\": \"GAUGE\",\n",
    "            \"key\": \"true_neg_total\",\n",
    "            \"value\": self.cm[\"tn\"],\n",
    "            \"tags\": {\"branch_name\": \"GBC\"},\n",
    "        }\n",
    "        fp = {\n",
    "            \"type\": \"GAUGE\",\n",
    "            \"key\": \"false_pos_total\",\n",
    "            \"value\": self.cm[\"fp\"],\n",
    "            \"tags\": {\"branch_name\": \"GBC\"},\n",
    "        }\n",
    "        fn = {\n",
    "            \"type\": \"GAUGE\",\n",
    "            \"key\": \"false_neg_total\",\n",
    "            \"value\": self.cm[\"fn\"],\n",
    "            \"tags\": {\"branch_name\": \"GBC\"},\n",
    "        }\n",
    "\n",
    "        value = {\n",
    "            \"type\": \"GAUGE\",\n",
    "            \"key\": \"branch_value\",\n",
    "            \"value\": self.value,\n",
    "            \"tags\": {\"branch_name\": \"GBC\"},\n",
    "        }\n",
    "        success = {\n",
    "            \"type\": \"GAUGE\",\n",
    "            \"key\": \"n_success_total\",\n",
    "            \"value\": self.success,\n",
    "            \"tags\": {\"branch_name\": \"GBC\"},\n",
    "        }\n",
    "        tries = {\n",
    "            \"type\": \"GAUGE\",\n",
    "            \"key\": \"n_tries_total\",\n",
    "            \"value\": self.tries,\n",
    "            \"tags\": {\"branch_name\": \"GBC\"},\n",
    "        }\n",
    "\n",
    "        return [tp, tn, fp, fn, value, success, tries]"
   ]
  },
  {
   "cell_type": "markdown",
   "id": "d0663ec5",
   "metadata": {},
   "source": [
    "# Цикл тестирования "
   ]
  },
  {
   "cell_type": "code",
   "execution_count": 140,
   "id": "4d9dfc0f",
   "metadata": {
    "ExecuteTime": {
     "end_time": "2023-07-03T11:12:53.268221843Z",
     "start_time": "2023-07-03T11:12:53.238989029Z"
    }
   },
   "outputs": [
    {
     "name": "stdout",
     "output_type": "stream",
     "text": [
      "Encoder loaded\n",
      "Model loaded\n",
      "Encoder loaded\n",
      "Model loaded\n"
     ]
    }
   ],
   "source": [
    "import joblib\n",
    "\n",
    "dtc = DTCModel()\n",
    "gbc = GBCModel()"
   ]
  },
  {
   "cell_type": "code",
   "execution_count": 141,
   "id": "2d2168cb",
   "metadata": {
    "ExecuteTime": {
     "end_time": "2023-07-03T11:12:53.751613208Z",
     "start_time": "2023-07-03T11:12:53.239088647Z"
    }
   },
   "outputs": [
    {
     "name": "stdout",
     "output_type": "stream",
     "text": [
      "Processed 1/100 samples\n",
      "Respones:  {'data': {'names': [], 'ndarray': [0]}, 'meta': {'metrics': [{'key': 'true_pos_total', 'tags': {'branch_name': 'GBC', 'method': 'predict'}, 'type': 'GAUGE', 'value': 0}, {'key': 'true_neg_total', 'tags': {'branch_name': 'GBC', 'method': 'predict'}, 'type': 'GAUGE', 'value': 4}, {'key': 'false_pos_total', 'tags': {'branch_name': 'GBC', 'method': 'predict'}, 'type': 'GAUGE', 'value': 0}, {'key': 'false_neg_total', 'tags': {'branch_name': 'GBC', 'method': 'predict'}, 'type': 'GAUGE', 'value': 0}, {'key': 'branch_value', 'tags': {'branch_name': 'GBC', 'method': 'predict'}, 'type': 'GAUGE', 'value': 1.0}, {'key': 'n_success_total', 'tags': {'branch_name': 'GBC', 'method': 'predict'}, 'type': 'GAUGE', 'value': 4}, {'key': 'n_tries_total', 'tags': {'branch_name': 'GBC', 'method': 'predict'}, 'type': 'GAUGE', 'value': 4}], 'requestPath': {'gbc': 'blcox/gbc-model:v0.8'}}}\n"
     ]
    },
    {
     "ename": "AssertionError",
     "evalue": "",
     "output_type": "error",
     "traceback": [
      "\u001b[0;31m---------------------------------------------------------------------------\u001b[0m",
      "\u001b[0;31mAssertionError\u001b[0m                            Traceback (most recent call last)",
      "Cell \u001b[0;32mIn[141], line 53\u001b[0m\n\u001b[1;32m     44\u001b[0m feedback \u001b[38;5;241m=\u001b[39m {\n\u001b[1;32m     45\u001b[0m     \u001b[38;5;124m\"\u001b[39m\u001b[38;5;124mrequest\u001b[39m\u001b[38;5;124m\"\u001b[39m: req,\n\u001b[1;32m     46\u001b[0m     \u001b[38;5;124m\"\u001b[39m\u001b[38;5;124mresponse\u001b[39m\u001b[38;5;124m\"\u001b[39m: res,\n\u001b[1;32m     47\u001b[0m     \u001b[38;5;124m\"\u001b[39m\u001b[38;5;124mreward\u001b[39m\u001b[38;5;124m\"\u001b[39m: reward,\n\u001b[1;32m     48\u001b[0m     \u001b[38;5;124m\"\u001b[39m\u001b[38;5;124mtruth\u001b[39m\u001b[38;5;124m\"\u001b[39m: {\u001b[38;5;124m\"\u001b[39m\u001b[38;5;124mdata\u001b[39m\u001b[38;5;124m\"\u001b[39m: {\u001b[38;5;124m\"\u001b[39m\u001b[38;5;124mndarray\u001b[39m\u001b[38;5;124m\"\u001b[39m: truth}}\n\u001b[1;32m     49\u001b[0m }\n\u001b[1;32m     50\u001b[0m res_raw \u001b[38;5;241m=\u001b[39m requests\u001b[38;5;241m.\u001b[39mpost(\n\u001b[1;32m     51\u001b[0m     url_feedback, json\u001b[38;5;241m=\u001b[39mfeedback\n\u001b[1;32m     52\u001b[0m )\n\u001b[0;32m---> 53\u001b[0m \u001b[38;5;28;01massert\u001b[39;00m res_raw\u001b[38;5;241m.\u001b[39mstatus_code \u001b[38;5;241m==\u001b[39m \u001b[38;5;241m200\u001b[39m\n",
      "\u001b[0;31mAssertionError\u001b[0m: "
     ]
    }
   ],
   "source": [
    "import numpy as np\n",
    "import requests\n",
    "\n",
    "n = 100\n",
    "\n",
    "for i in range(n):\n",
    "    print(f\"Processed {i+1}/{n} samples\", flush=True)  \n",
    "    \n",
    "#     Локальный тест классов !!!!!!!!!!\n",
    "\n",
    "#     print([X[i].tolist()])\n",
    "#     pred = dtc.predict([X[i].tolist()], columns)\n",
    "#     print(pred)\n",
    "    \n",
    "#     truth_val = int(y[i][0])\n",
    "    \n",
    "#     reward = int(pred == truth_val)\n",
    "#     print(reward)\n",
    "    \n",
    "#     _ = dtc.send_feedback([], [], reward, truth_val)\n",
    "    \n",
    "#     reward = int(pred == truth_val)\n",
    "\n",
    "\n",
    "#     Тест на сервере !!!!!!!!!!\n",
    "    port = \"36991\"\n",
    "    url = \"http://localhost:\"+ port +\"/api/v1.0/predictions\" # Надо заполнить\n",
    "    url_feedback = \"http://localhost:\"+ port +\"/api/v1.0/feedback\"\n",
    "    req = {\"data\": {\"ndarray\": [X[i].tolist()], \"names\": columns}}\n",
    "    \n",
    "    res_raw = requests.post(\n",
    "        url, json=req\n",
    "    )\n",
    "    res = res_raw.json()\n",
    "    print(\"Respones: \", res)\n",
    "    pred = res.get(\"data\").get(\"ndarray\")[0]\n",
    "    \n",
    "    truth_val = int(y[i][0])\n",
    "    \n",
    "    reward = int(pred == truth_val)\n",
    "    \n",
    "    truth = [truth_val]\n",
    "    \n",
    "    feedback = {\n",
    "        \"request\": req,\n",
    "        \"response\": res,\n",
    "        \"reward\": reward,\n",
    "        \"truth\": {\"data\": {\"ndarray\": truth}}\n",
    "    }\n",
    "    res_raw = requests.post(\n",
    "        url_feedback, json=feedback\n",
    "    )\n",
    "    print(res_raw)\n",
    "    assert res_raw.status_code == 200\n"
   ]
  },
  {
   "cell_type": "code",
   "execution_count": 1,
   "id": "1f004569",
   "metadata": {},
   "outputs": [
    {
     "data": {
      "text/plain": [
       "list"
      ]
     },
     "execution_count": 1,
     "metadata": {},
     "output_type": "execute_result"
    }
   ],
   "source": [
    "type([])"
   ]
  },
  {
   "cell_type": "code",
   "execution_count": null,
   "id": "597dfb9a",
   "metadata": {},
   "outputs": [],
   "source": []
  }
 ],
 "metadata": {
  "kernelspec": {
   "display_name": "Python 3 (ipykernel)",
   "language": "python",
   "name": "python3"
  },
  "language_info": {
   "codemirror_mode": {
    "name": "ipython",
    "version": 3
   },
   "file_extension": ".py",
   "mimetype": "text/x-python",
   "name": "python",
   "nbconvert_exporter": "python",
   "pygments_lexer": "ipython3",
   "version": "3.9.12"
  }
 },
 "nbformat": 4,
 "nbformat_minor": 5
}
