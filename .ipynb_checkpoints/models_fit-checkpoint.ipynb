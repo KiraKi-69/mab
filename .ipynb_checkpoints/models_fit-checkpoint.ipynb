{
 "cells": [
  {
   "cell_type": "markdown",
   "id": "260bbfc5",
   "metadata": {},
   "source": [
    "# Подготовка данных для обучения"
   ]
  },
  {
   "cell_type": "code",
   "execution_count": null,
   "id": "7b5a09f0",
   "metadata": {},
   "outputs": [],
   "source": [
    "import pandas as pd\n",
    "\n",
    "data_path = 'data/credit_history_all.csv'\n",
    "\n",
    "df = pd.read_csv(data_path)"
   ]
  },
  {
   "cell_type": "code",
   "execution_count": null,
   "id": "22c8ac6a",
   "metadata": {},
   "outputs": [],
   "source": [
    "del df['created_timestamp']\n",
    "del df['event_timestamp']\n",
    "del df['loan_id']\n",
    "del df['zipcode']\n",
    "del df['dob_ssn']"
   ]
  },
  {
   "cell_type": "code",
   "execution_count": null,
   "id": "ed6f83be",
   "metadata": {},
   "outputs": [],
   "source": [
    "df.head()"
   ]
  },
  {
   "cell_type": "code",
   "execution_count": null,
   "id": "0a6f2eb6",
   "metadata": {},
   "outputs": [],
   "source": [
    "# df.to_csv('data/test_data.csv')"
   ]
  },
  {
   "cell_type": "markdown",
   "id": "e567023c",
   "metadata": {},
   "source": [
    "Для проверки в пайплайне с энкодером"
   ]
  },
  {
   "cell_type": "code",
   "execution_count": null,
   "id": "28f2bf89",
   "metadata": {},
   "outputs": [],
   "source": [
    "X = df[df.columns.drop(\"loan_status\")].copy()\n",
    "y = df[[\"loan_status\"]].copy()"
   ]
  },
  {
   "cell_type": "code",
   "execution_count": null,
   "id": "23fa8cae",
   "metadata": {},
   "outputs": [],
   "source": [
    "X.columns"
   ]
  },
  {
   "cell_type": "code",
   "execution_count": null,
   "id": "a3e2abc3",
   "metadata": {},
   "outputs": [],
   "source": [
    "X[:5].values"
   ]
  },
  {
   "cell_type": "code",
   "execution_count": null,
   "id": "62e31066",
   "metadata": {},
   "outputs": [],
   "source": [
    "categorical_features = [\n",
    "    \"person_home_ownership\",\n",
    "    \"loan_intent\",\n",
    "    \"city\",\n",
    "    \"state\",\n",
    "    \"location_type\",\n",
    "]"
   ]
  },
  {
   "cell_type": "code",
   "execution_count": null,
   "id": "adfa5219",
   "metadata": {},
   "outputs": [],
   "source": [
    "from sklearn.preprocessing import OrdinalEncoder\n",
    "\n",
    "encoder = OrdinalEncoder()\n",
    "\n",
    "encoder.fit(df[categorical_features])"
   ]
  },
  {
   "cell_type": "code",
   "execution_count": null,
   "id": "66abaff2",
   "metadata": {},
   "outputs": [],
   "source": [
    "import joblib\n",
    "\n",
    "encoder_filename = \"encoder.pkl\"\n",
    "_ = joblib.dump(encoder, encoder_filename)"
   ]
  },
  {
   "cell_type": "code",
   "execution_count": null,
   "id": "e0353ff3",
   "metadata": {},
   "outputs": [],
   "source": [
    "target = \"loan_status\"\n",
    "\n",
    "transform_training_df=df.copy()\n",
    "transform_training_df[categorical_features] = encoder.transform(\n",
    "    df[categorical_features]\n",
    ")\n",
    "\n",
    "train_X = transform_training_df[\n",
    "    transform_training_df.columns.drop(target)\n",
    "]\n",
    "train_X = train_X.reindex(sorted(train_X.columns), axis=1)\n",
    "train_Y = transform_training_df.loc[:, target]"
   ]
  },
  {
   "cell_type": "code",
   "execution_count": null,
   "id": "5a61e8f1",
   "metadata": {},
   "outputs": [],
   "source": [
    "train_X.head()"
   ]
  },
  {
   "cell_type": "code",
   "execution_count": null,
   "id": "4278a517",
   "metadata": {},
   "outputs": [],
   "source": [
    "train_Y.head()"
   ]
  },
  {
   "cell_type": "code",
   "execution_count": null,
   "id": "a44f3914",
   "metadata": {},
   "outputs": [],
   "source": [
    "from sklearn.model_selection import train_test_split\n",
    "\n",
    "x_train, x_test, y_train, y_test = train_test_split(train_X, train_Y, test_size=0.10)"
   ]
  },
  {
   "cell_type": "markdown",
   "id": "c5880eb4",
   "metadata": {},
   "source": [
    "# DecisionTreeClassifier"
   ]
  },
  {
   "cell_type": "code",
   "execution_count": null,
   "id": "a635049a",
   "metadata": {},
   "outputs": [],
   "source": [
    "from sklearn.tree import DecisionTreeClassifier\n",
    "\n",
    "max_depth = 22\n",
    "\n",
    "classifier = DecisionTreeClassifier(max_depth = max_depth)\n",
    "classifier.fit(x_train, y_train)"
   ]
  },
  {
   "cell_type": "code",
   "execution_count": null,
   "id": "6dab4111",
   "metadata": {},
   "outputs": [],
   "source": [
    "DTC_filename = \"DTC.pkl\"\n",
    "_ = joblib.dump(classifier, DTC_filename)"
   ]
  },
  {
   "cell_type": "code",
   "execution_count": null,
   "id": "1cbe9c35",
   "metadata": {},
   "outputs": [],
   "source": [
    "X[categorical_features] = encoder.transform(X[categorical_features])\n",
    "X = X.reindex(sorted(X.columns), axis=1)"
   ]
  },
  {
   "cell_type": "code",
   "execution_count": null,
   "id": "e919d482",
   "metadata": {},
   "outputs": [],
   "source": [
    "predictions = classifier.predict(X)"
   ]
  },
  {
   "cell_type": "code",
   "execution_count": null,
   "id": "3f7d899a",
   "metadata": {},
   "outputs": [],
   "source": [
    "from sklearn.metrics import accuracy_score, make_scorer\n",
    "\n",
    "accuracy = accuracy_score(y_true=y, y_pred = predictions)\n",
    "print(accuracy)"
   ]
  },
  {
   "cell_type": "code",
   "execution_count": null,
   "id": "2a608e7b",
   "metadata": {},
   "outputs": [],
   "source": [
    "predictions = classifier.predict(x_test)\n",
    "\n",
    "accuracy = accuracy_score(y_true=y_test, y_pred = predictions)\n",
    "print(accuracy)"
   ]
  },
  {
   "cell_type": "markdown",
   "id": "2829bf95",
   "metadata": {},
   "source": [
    "# GradientBoostingClassifier"
   ]
  },
  {
   "cell_type": "code",
   "execution_count": null,
   "id": "86b256cc",
   "metadata": {},
   "outputs": [],
   "source": [
    "from sklearn.ensemble import GradientBoostingClassifier\n",
    "\n",
    "clf = GradientBoostingClassifier().fit(x_train, y_train)"
   ]
  },
  {
   "cell_type": "code",
   "execution_count": null,
   "id": "38c859e7",
   "metadata": {},
   "outputs": [],
   "source": [
    "GBC_filename = \"GBC.pkl\"\n",
    "_ = joblib.dump(clf, GBC_filename)"
   ]
  },
  {
   "cell_type": "code",
   "execution_count": null,
   "id": "830e40e3",
   "metadata": {},
   "outputs": [],
   "source": [
    "predictions = clf.predict(X)"
   ]
  },
  {
   "cell_type": "code",
   "execution_count": null,
   "id": "6b23329b",
   "metadata": {},
   "outputs": [],
   "source": [
    "from sklearn.metrics import accuracy_score, make_scorer\n",
    "\n",
    "accuracy = accuracy_score(y_true=y, y_pred = predictions)\n",
    "print(accuracy)"
   ]
  },
  {
   "cell_type": "code",
   "execution_count": null,
   "id": "5377d219",
   "metadata": {},
   "outputs": [],
   "source": [
    "predictions = clf.predict(x_test)\n",
    "\n",
    "accuracy = accuracy_score(y_true=y_test, y_pred = predictions)\n",
    "print(accuracy)"
   ]
  },
  {
   "cell_type": "code",
   "execution_count": null,
   "id": "a66309e5",
   "metadata": {},
   "outputs": [],
   "source": [
    "predictions"
   ]
  },
  {
   "cell_type": "code",
   "execution_count": null,
   "id": "d71bc652",
   "metadata": {},
   "outputs": [],
   "source": []
  },
  {
   "cell_type": "code",
   "execution_count": null,
   "id": "bf7dac45",
   "metadata": {},
   "outputs": [],
   "source": [
    "model = joblib.load(\"DTC.pkl\")"
   ]
  },
  {
   "cell_type": "code",
   "execution_count": null,
   "id": "05e35749",
   "metadata": {},
   "outputs": [],
   "source": [
    "predictions = model.predict(X)"
   ]
  },
  {
   "cell_type": "code",
   "execution_count": null,
   "id": "f8c2fe31",
   "metadata": {},
   "outputs": [],
   "source": [
    "predictions"
   ]
  },
  {
   "cell_type": "code",
   "execution_count": null,
   "id": "ed9ac131",
   "metadata": {},
   "outputs": [],
   "source": []
  },
  {
   "cell_type": "code",
   "execution_count": null,
   "id": "35e8926d",
   "metadata": {},
   "outputs": [],
   "source": []
  },
  {
   "cell_type": "code",
   "execution_count": null,
   "id": "1c054d7c",
   "metadata": {},
   "outputs": [],
   "source": [
    "https://github.com/SeldonIO/seldon-core/blob/master/components/routers/case_study/credit_card_default.ipynb"
   ]
  },
  {
   "cell_type": "code",
   "execution_count": null,
   "id": "15f6c01e",
   "metadata": {},
   "outputs": [],
   "source": [
    "import pandas as pd\n",
    "from sklearn.tree import DecisionTreeClassifier\n",
    "from sklearn.preprocessing import OrdinalEncoder\n",
    "\n",
    "class DTCModel(object):  \n",
    "    \n",
    "    def __init__(self):\n",
    "        \n",
    "        self.categorical_features = [\n",
    "            \"person_home_ownership\",\n",
    "            \"loan_intent\",\n",
    "            \"city\",\n",
    "            \"state\",\n",
    "            \"location_type\",\n",
    "        ]\n",
    "        \n",
    "        self.encoder = joblib.load(\"encoder.pkl\")\n",
    "        \n",
    "        print(\"Encoder loaded\")\n",
    "        \n",
    "        self.model = joblib.load(\"DTC.pkl\")\n",
    "        \n",
    "        print(\"Model loaded\")\n",
    "        \n",
    "        self.cm = {\"tp\": 0, \"fp\": 0, \"tn\": 0, \"fn\": 0}\n",
    "\n",
    "        self.tries = 0\n",
    "        self.success = 0\n",
    "        self.value = 0\n",
    "        \n",
    "\n",
    "    def predict(self,X,features_names):\n",
    "\n",
    "        df = pd.Dataframe(X, columns=features_names)\n",
    "        \n",
    "        df[self.categorical_features] = self.encoder.transform(df[self.categorical_features])\n",
    "        df = df.reindex(sorted(df.columns), axis=1)\n",
    "        \n",
    "        predictions = self.model.predict(df)\n",
    "        \n",
    "        return predictions\n",
    "\n",
    "    def send_feedback(self, features, feature_names, reward, truth, routing=None):\n",
    "        print(\"DTC model send-feedback entered\")\n",
    "        print(f\"Truth: {truth}, Reward: {reward}\")\n",
    "\n",
    "        if reward == 1:\n",
    "            if truth == 1:\n",
    "                self.cm[\"tp\"] += 1\n",
    "            if truth == 0:\n",
    "                self.cm[\"tn\"] += 1\n",
    "        if reward == 0:\n",
    "            if truth == 1:\n",
    "                self.cm[\"fn\"] += 1\n",
    "            if truth == 0:\n",
    "                self.cm[\"fp\"] += 1\n",
    "\n",
    "        self.tries += 1\n",
    "        self.success = self.success + 1 if reward else self.success\n",
    "        self.value = self.success / self.tries\n",
    "\n",
    "        print(self.cm)\n",
    "        print(\n",
    "            \"Tries: %s, successes: %s, values: %s\", self.tries, self.success, self.value\n",
    "        )\n",
    "\n",
    "    def metrics(self):\n",
    "        tp = {\n",
    "            \"type\": \"GAUGE\",\n",
    "            \"key\": \"true_pos_total\",\n",
    "            \"value\": self.cm[\"tp\"],\n",
    "            \"tags\": {\"branch_name\": \"DTC\"},\n",
    "        }\n",
    "        tn = {\n",
    "            \"type\": \"GAUGE\",\n",
    "            \"key\": \"true_neg_total\",\n",
    "            \"value\": self.cm[\"tn\"],\n",
    "            \"tags\": {\"branch_name\": \"DTC\"},\n",
    "        }\n",
    "        fp = {\n",
    "            \"type\": \"GAUGE\",\n",
    "            \"key\": \"false_pos_total\",\n",
    "            \"value\": self.cm[\"fp\"],\n",
    "            \"tags\": {\"branch_name\": \"DTC\"},\n",
    "        }\n",
    "        fn = {\n",
    "            \"type\": \"GAUGE\",\n",
    "            \"key\": \"false_neg_total\",\n",
    "            \"value\": self.cm[\"fn\"],\n",
    "            \"tags\": {\"branch_name\": \"DTC\"},\n",
    "        }\n",
    "\n",
    "        value = {\n",
    "            \"type\": \"GAUGE\",\n",
    "            \"key\": \"branch_value\",\n",
    "            \"value\": self.value,\n",
    "            \"tags\": {\"branch_name\": \"DTC\"},\n",
    "        }\n",
    "        success = {\n",
    "            \"type\": \"GAUGE\",\n",
    "            \"key\": \"n_success_total\",\n",
    "            \"value\": self.success,\n",
    "            \"tags\": {\"branch_name\": \"DTC\"},\n",
    "        }\n",
    "        tries = {\n",
    "            \"type\": \"GAUGE\",\n",
    "            \"key\": \"n_tries_total\",\n",
    "            \"value\": self.tries,\n",
    "            \"tags\": {\"branch_name\": \"DTC\"},\n",
    "        }\n",
    "\n",
    "        return [tp, tn, fp, fn, value, success, tries]"
   ]
  },
  {
   "cell_type": "code",
   "execution_count": null,
   "id": "7201001b",
   "metadata": {},
   "outputs": [],
   "source": [
    "import pandas as pd\n",
    "from sklearn.ensemble import GradientBoostingClassifier\n",
    "from sklearn.preprocessing import OrdinalEncoder\n",
    "\n",
    "class GBCModel(object):  \n",
    "    \n",
    "    def __init__(self):\n",
    "        \n",
    "        self.categorical_features = [\n",
    "            \"person_home_ownership\",\n",
    "            \"loan_intent\",\n",
    "            \"city\",\n",
    "            \"state\",\n",
    "            \"location_type\",\n",
    "        ]\n",
    "        \n",
    "        self.encoder = joblib.load(\"encoder.pkl\")\n",
    "        \n",
    "        print(\"Encoder loaded\")\n",
    "        \n",
    "        self.model = joblib.load(\"GBC.pkl\")\n",
    "        \n",
    "        print(\"Model loaded\")\n",
    "\n",
    "    def predict(self,X,features_names):\n",
    "\n",
    "        df = pd.Dataframe(X, columns=features_names)\n",
    "        \n",
    "        df[self.categorical_features] = self.encoder.transform(df[self.categorical_features])\n",
    "        df = df.reindex(sorted(df.columns), axis=1)\n",
    "        \n",
    "        predictions = self.model.predict(df)\n",
    "        \n",
    "        return predictions\n",
    "\n",
    "    def send_feedback(self, features, feature_names, reward, truth, routing=None):\n",
    "        print(\"GBC model send-feedback entered\")\n",
    "        print(f\"Truth: {truth}, Reward: {reward}\")\n",
    "\n",
    "        if reward == 1:\n",
    "            if truth == 1:\n",
    "                self.cm[\"tp\"] += 1\n",
    "            if truth == 0:\n",
    "                self.cm[\"tn\"] += 1\n",
    "        if reward == 0:\n",
    "            if truth == 1:\n",
    "                self.cm[\"fn\"] += 1\n",
    "            if truth == 0:\n",
    "                self.cm[\"fp\"] += 1\n",
    "\n",
    "        self.tries += 1\n",
    "        self.success = self.success + 1 if reward else self.success\n",
    "        self.value = self.success / self.tries\n",
    "\n",
    "        print(self.cm)\n",
    "        print(\n",
    "            \"Tries: %s, successes: %s, values: %s\", self.tries, self.success, self.value\n",
    "        )\n",
    "\n",
    "    def metrics(self):\n",
    "        tp = {\n",
    "            \"type\": \"GAUGE\",\n",
    "            \"key\": \"true_pos_total\",\n",
    "            \"value\": self.cm[\"tp\"],\n",
    "            \"tags\": {\"branch_name\": \"GBC\"},\n",
    "        }\n",
    "        tn = {\n",
    "            \"type\": \"GAUGE\",\n",
    "            \"key\": \"true_neg_total\",\n",
    "            \"value\": self.cm[\"tn\"],\n",
    "            \"tags\": {\"branch_name\": \"GBC\"},\n",
    "        }\n",
    "        fp = {\n",
    "            \"type\": \"GAUGE\",\n",
    "            \"key\": \"false_pos_total\",\n",
    "            \"value\": self.cm[\"fp\"],\n",
    "            \"tags\": {\"branch_name\": \"GBC\"},\n",
    "        }\n",
    "        fn = {\n",
    "            \"type\": \"GAUGE\",\n",
    "            \"key\": \"false_neg_total\",\n",
    "            \"value\": self.cm[\"fn\"],\n",
    "            \"tags\": {\"branch_name\": \"GBC\"},\n",
    "        }\n",
    "\n",
    "        value = {\n",
    "            \"type\": \"GAUGE\",\n",
    "            \"key\": \"branch_value\",\n",
    "            \"value\": self.value,\n",
    "            \"tags\": {\"branch_name\": \"GBC\"},\n",
    "        }\n",
    "        success = {\n",
    "            \"type\": \"GAUGE\",\n",
    "            \"key\": \"n_success_total\",\n",
    "            \"value\": self.success,\n",
    "            \"tags\": {\"branch_name\": \"GBC\"},\n",
    "        }\n",
    "        tries = {\n",
    "            \"type\": \"GAUGE\",\n",
    "            \"key\": \"n_tries_total\",\n",
    "            \"value\": self.tries,\n",
    "            \"tags\": {\"branch_name\": \"GBC\"},\n",
    "        }\n",
    "\n",
    "        return [tp, tn, fp, fn, value, success, tries]"
   ]
  }
 ],
 "metadata": {
  "kernelspec": {
   "display_name": "Python 3 (ipykernel)",
   "language": "python",
   "name": "python3"
  },
  "language_info": {
   "codemirror_mode": {
    "name": "ipython",
    "version": 3
   },
   "file_extension": ".py",
   "mimetype": "text/x-python",
   "name": "python",
   "nbconvert_exporter": "python",
   "pygments_lexer": "ipython3",
   "version": "3.9.12"
  }
 },
 "nbformat": 4,
 "nbformat_minor": 5
}
