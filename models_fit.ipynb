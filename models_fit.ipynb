{
 "cells": [
  {
   "cell_type": "markdown",
   "id": "260bbfc5",
   "metadata": {},
   "source": [
    "# Подготовка данных для обучения"
   ]
  },
  {
   "cell_type": "code",
   "execution_count": 36,
   "id": "7b5a09f0",
   "metadata": {},
   "outputs": [],
   "source": [
    "import pandas as pd\n",
    "\n",
    "data_path = 'data/credit_history_all.csv'\n",
    "\n",
    "df = pd.read_csv(data_path)"
   ]
  },
  {
   "cell_type": "code",
   "execution_count": 37,
   "id": "22c8ac6a",
   "metadata": {},
   "outputs": [],
   "source": [
    "del df['created_timestamp']\n",
    "del df['event_timestamp']\n",
    "del df['loan_id']\n",
    "del df['zipcode']\n",
    "del df['dob_ssn']"
   ]
  },
  {
   "cell_type": "code",
   "execution_count": 38,
   "id": "ed6f83be",
   "metadata": {},
   "outputs": [
    {
     "data": {
      "text/html": [
       "<div>\n",
       "<style scoped>\n",
       "    .dataframe tbody tr th:only-of-type {\n",
       "        vertical-align: middle;\n",
       "    }\n",
       "\n",
       "    .dataframe tbody tr th {\n",
       "        vertical-align: top;\n",
       "    }\n",
       "\n",
       "    .dataframe thead th {\n",
       "        text-align: right;\n",
       "    }\n",
       "</style>\n",
       "<table border=\"1\" class=\"dataframe\">\n",
       "  <thead>\n",
       "    <tr style=\"text-align: right;\">\n",
       "      <th></th>\n",
       "      <th>person_age</th>\n",
       "      <th>person_income</th>\n",
       "      <th>person_home_ownership</th>\n",
       "      <th>person_emp_length</th>\n",
       "      <th>loan_intent</th>\n",
       "      <th>loan_amnt</th>\n",
       "      <th>loan_int_rate</th>\n",
       "      <th>loan_status</th>\n",
       "      <th>city</th>\n",
       "      <th>state</th>\n",
       "      <th>...</th>\n",
       "      <th>total_wages</th>\n",
       "      <th>credit_card_due</th>\n",
       "      <th>mortgage_due</th>\n",
       "      <th>student_loan_due</th>\n",
       "      <th>vehicle_loan_due</th>\n",
       "      <th>hard_pulls</th>\n",
       "      <th>missed_payments_2y</th>\n",
       "      <th>missed_payments_1y</th>\n",
       "      <th>missed_payments_6m</th>\n",
       "      <th>bankruptcies</th>\n",
       "    </tr>\n",
       "  </thead>\n",
       "  <tbody>\n",
       "    <tr>\n",
       "      <th>0</th>\n",
       "      <td>52</td>\n",
       "      <td>69996</td>\n",
       "      <td>OWN</td>\n",
       "      <td>3.0</td>\n",
       "      <td>PERSONAL</td>\n",
       "      <td>12000</td>\n",
       "      <td>11.11</td>\n",
       "      <td>0</td>\n",
       "      <td>CUMMINGS</td>\n",
       "      <td>KS</td>\n",
       "      <td>...</td>\n",
       "      <td>9617849</td>\n",
       "      <td>7649</td>\n",
       "      <td>779433</td>\n",
       "      <td>28579</td>\n",
       "      <td>3583</td>\n",
       "      <td>0</td>\n",
       "      <td>0</td>\n",
       "      <td>0</td>\n",
       "      <td>0</td>\n",
       "      <td>0</td>\n",
       "    </tr>\n",
       "    <tr>\n",
       "      <th>1</th>\n",
       "      <td>61</td>\n",
       "      <td>10636</td>\n",
       "      <td>RENT</td>\n",
       "      <td>3.0</td>\n",
       "      <td>PERSONAL</td>\n",
       "      <td>4000</td>\n",
       "      <td>12.21</td>\n",
       "      <td>1</td>\n",
       "      <td>CRESSON</td>\n",
       "      <td>TX</td>\n",
       "      <td>...</td>\n",
       "      <td>38291019</td>\n",
       "      <td>5101</td>\n",
       "      <td>1877182</td>\n",
       "      <td>32008</td>\n",
       "      <td>20745</td>\n",
       "      <td>6</td>\n",
       "      <td>1</td>\n",
       "      <td>3</td>\n",
       "      <td>0</td>\n",
       "      <td>0</td>\n",
       "    </tr>\n",
       "    <tr>\n",
       "      <th>2</th>\n",
       "      <td>36</td>\n",
       "      <td>69000</td>\n",
       "      <td>RENT</td>\n",
       "      <td>0.0</td>\n",
       "      <td>MEDICAL</td>\n",
       "      <td>15600</td>\n",
       "      <td>10.99</td>\n",
       "      <td>0</td>\n",
       "      <td>PLAINVILLE</td>\n",
       "      <td>GA</td>\n",
       "      <td>...</td>\n",
       "      <td>23478174</td>\n",
       "      <td>4223</td>\n",
       "      <td>1142978</td>\n",
       "      <td>24020</td>\n",
       "      <td>11711</td>\n",
       "      <td>3</td>\n",
       "      <td>5</td>\n",
       "      <td>1</td>\n",
       "      <td>1</td>\n",
       "      <td>2</td>\n",
       "    </tr>\n",
       "    <tr>\n",
       "      <th>3</th>\n",
       "      <td>36</td>\n",
       "      <td>48686</td>\n",
       "      <td>RENT</td>\n",
       "      <td>21.0</td>\n",
       "      <td>MEDICAL</td>\n",
       "      <td>12000</td>\n",
       "      <td>13.99</td>\n",
       "      <td>0</td>\n",
       "      <td>CLINTON</td>\n",
       "      <td>NC</td>\n",
       "      <td>...</td>\n",
       "      <td>35505191</td>\n",
       "      <td>6993</td>\n",
       "      <td>592528</td>\n",
       "      <td>40529</td>\n",
       "      <td>17508</td>\n",
       "      <td>1</td>\n",
       "      <td>1</td>\n",
       "      <td>0</td>\n",
       "      <td>0</td>\n",
       "      <td>0</td>\n",
       "    </tr>\n",
       "    <tr>\n",
       "      <th>4</th>\n",
       "      <td>36</td>\n",
       "      <td>44000</td>\n",
       "      <td>RENT</td>\n",
       "      <td>4.0</td>\n",
       "      <td>DEBTCONSOLIDATION</td>\n",
       "      <td>8000</td>\n",
       "      <td>17.49</td>\n",
       "      <td>1</td>\n",
       "      <td>NASHVILLE</td>\n",
       "      <td>TN</td>\n",
       "      <td>...</td>\n",
       "      <td>571965786</td>\n",
       "      <td>1552</td>\n",
       "      <td>1786677</td>\n",
       "      <td>26664</td>\n",
       "      <td>19749</td>\n",
       "      <td>8</td>\n",
       "      <td>2</td>\n",
       "      <td>0</td>\n",
       "      <td>1</td>\n",
       "      <td>0</td>\n",
       "    </tr>\n",
       "  </tbody>\n",
       "</table>\n",
       "<p>5 rows × 23 columns</p>\n",
       "</div>"
      ],
      "text/plain": [
       "   person_age  person_income person_home_ownership  person_emp_length  \\\n",
       "0          52          69996                   OWN                3.0   \n",
       "1          61          10636                  RENT                3.0   \n",
       "2          36          69000                  RENT                0.0   \n",
       "3          36          48686                  RENT               21.0   \n",
       "4          36          44000                  RENT                4.0   \n",
       "\n",
       "         loan_intent  loan_amnt  loan_int_rate  loan_status        city state  \\\n",
       "0           PERSONAL      12000          11.11            0    CUMMINGS    KS   \n",
       "1           PERSONAL       4000          12.21            1     CRESSON    TX   \n",
       "2            MEDICAL      15600          10.99            0  PLAINVILLE    GA   \n",
       "3            MEDICAL      12000          13.99            0     CLINTON    NC   \n",
       "4  DEBTCONSOLIDATION       8000          17.49            1   NASHVILLE    TN   \n",
       "\n",
       "   ... total_wages  credit_card_due  mortgage_due  student_loan_due  \\\n",
       "0  ...     9617849             7649        779433             28579   \n",
       "1  ...    38291019             5101       1877182             32008   \n",
       "2  ...    23478174             4223       1142978             24020   \n",
       "3  ...    35505191             6993        592528             40529   \n",
       "4  ...   571965786             1552       1786677             26664   \n",
       "\n",
       "   vehicle_loan_due  hard_pulls  missed_payments_2y  missed_payments_1y  \\\n",
       "0              3583           0                   0                   0   \n",
       "1             20745           6                   1                   3   \n",
       "2             11711           3                   5                   1   \n",
       "3             17508           1                   1                   0   \n",
       "4             19749           8                   2                   0   \n",
       "\n",
       "   missed_payments_6m  bankruptcies  \n",
       "0                   0             0  \n",
       "1                   0             0  \n",
       "2                   1             2  \n",
       "3                   0             0  \n",
       "4                   1             0  \n",
       "\n",
       "[5 rows x 23 columns]"
      ]
     },
     "execution_count": 38,
     "metadata": {},
     "output_type": "execute_result"
    }
   ],
   "source": [
    "df.head()"
   ]
  },
  {
   "cell_type": "code",
   "execution_count": 39,
   "id": "0a6f2eb6",
   "metadata": {},
   "outputs": [],
   "source": [
    "# df.to_csv('data/test_data.csv')"
   ]
  },
  {
   "cell_type": "markdown",
   "id": "e567023c",
   "metadata": {},
   "source": [
    "Для проверки в пайплайне с энкодером"
   ]
  },
  {
   "cell_type": "code",
   "execution_count": 40,
   "id": "28f2bf89",
   "metadata": {},
   "outputs": [],
   "source": [
    "X = df[df.columns.drop(\"loan_status\")].copy()\n",
    "y = df[[\"loan_status\"]].copy()"
   ]
  },
  {
   "cell_type": "code",
   "execution_count": 42,
   "id": "23fa8cae",
   "metadata": {},
   "outputs": [
    {
     "data": {
      "text/plain": [
       "Index(['person_age', 'person_income', 'person_home_ownership',\n",
       "       'person_emp_length', 'loan_intent', 'loan_amnt', 'loan_int_rate',\n",
       "       'city', 'state', 'location_type', 'tax_returns_filed', 'population',\n",
       "       'total_wages', 'credit_card_due', 'mortgage_due', 'student_loan_due',\n",
       "       'vehicle_loan_due', 'hard_pulls', 'missed_payments_2y',\n",
       "       'missed_payments_1y', 'missed_payments_6m', 'bankruptcies'],\n",
       "      dtype='object')"
      ]
     },
     "execution_count": 42,
     "metadata": {},
     "output_type": "execute_result"
    }
   ],
   "source": [
    "X.columns"
   ]
  },
  {
   "cell_type": "code",
   "execution_count": 41,
   "id": "a3e2abc3",
   "metadata": {},
   "outputs": [
    {
     "data": {
      "text/plain": [
       "array([[52, 69996, 'OWN', 3.0, 'PERSONAL', 12000, 11.11, 'CUMMINGS',\n",
       "        'KS', 'PRIMARY', 253, 472, 9617849, 7649, 779433, 28579, 3583, 0,\n",
       "        0, 0, 0, 0],\n",
       "       [61, 10636, 'RENT', 3.0, 'PERSONAL', 4000, 12.21, 'CRESSON', 'TX',\n",
       "        'PRIMARY', 703, 1342, 38291019, 5101, 1877182, 32008, 20745, 6,\n",
       "        1, 3, 0, 0],\n",
       "       [36, 69000, 'RENT', 0.0, 'MEDICAL', 15600, 10.99, 'PLAINVILLE',\n",
       "        'GA', 'PRIMARY', 824, 1578, 23478174, 4223, 1142978, 24020,\n",
       "        11711, 3, 5, 1, 1, 2],\n",
       "       [36, 48686, 'RENT', 21.0, 'MEDICAL', 12000, 13.99, 'CLINTON',\n",
       "        'NC', 'PRIMARY', 1353, 2505, 35505191, 6993, 592528, 40529,\n",
       "        17508, 1, 1, 0, 0, 0],\n",
       "       [36, 44000, 'RENT', 4.0, 'DEBTCONSOLIDATION', 8000, 17.49,\n",
       "        'NASHVILLE', 'TN', 'PRIMARY', 15882, 24868, 571965786, 1552,\n",
       "        1786677, 26664, 19749, 8, 2, 0, 1, 0]], dtype=object)"
      ]
     },
     "execution_count": 41,
     "metadata": {},
     "output_type": "execute_result"
    }
   ],
   "source": [
    "X[:5].values"
   ]
  },
  {
   "cell_type": "code",
   "execution_count": 6,
   "id": "62e31066",
   "metadata": {},
   "outputs": [],
   "source": [
    "categorical_features = [\n",
    "    \"person_home_ownership\",\n",
    "    \"loan_intent\",\n",
    "    \"city\",\n",
    "    \"state\",\n",
    "    \"location_type\",\n",
    "]"
   ]
  },
  {
   "cell_type": "code",
   "execution_count": 7,
   "id": "adfa5219",
   "metadata": {},
   "outputs": [
    {
     "data": {
      "text/html": [
       "<style>#sk-container-id-1 {color: black;background-color: white;}#sk-container-id-1 pre{padding: 0;}#sk-container-id-1 div.sk-toggleable {background-color: white;}#sk-container-id-1 label.sk-toggleable__label {cursor: pointer;display: block;width: 100%;margin-bottom: 0;padding: 0.3em;box-sizing: border-box;text-align: center;}#sk-container-id-1 label.sk-toggleable__label-arrow:before {content: \"▸\";float: left;margin-right: 0.25em;color: #696969;}#sk-container-id-1 label.sk-toggleable__label-arrow:hover:before {color: black;}#sk-container-id-1 div.sk-estimator:hover label.sk-toggleable__label-arrow:before {color: black;}#sk-container-id-1 div.sk-toggleable__content {max-height: 0;max-width: 0;overflow: hidden;text-align: left;background-color: #f0f8ff;}#sk-container-id-1 div.sk-toggleable__content pre {margin: 0.2em;color: black;border-radius: 0.25em;background-color: #f0f8ff;}#sk-container-id-1 input.sk-toggleable__control:checked~div.sk-toggleable__content {max-height: 200px;max-width: 100%;overflow: auto;}#sk-container-id-1 input.sk-toggleable__control:checked~label.sk-toggleable__label-arrow:before {content: \"▾\";}#sk-container-id-1 div.sk-estimator input.sk-toggleable__control:checked~label.sk-toggleable__label {background-color: #d4ebff;}#sk-container-id-1 div.sk-label input.sk-toggleable__control:checked~label.sk-toggleable__label {background-color: #d4ebff;}#sk-container-id-1 input.sk-hidden--visually {border: 0;clip: rect(1px 1px 1px 1px);clip: rect(1px, 1px, 1px, 1px);height: 1px;margin: -1px;overflow: hidden;padding: 0;position: absolute;width: 1px;}#sk-container-id-1 div.sk-estimator {font-family: monospace;background-color: #f0f8ff;border: 1px dotted black;border-radius: 0.25em;box-sizing: border-box;margin-bottom: 0.5em;}#sk-container-id-1 div.sk-estimator:hover {background-color: #d4ebff;}#sk-container-id-1 div.sk-parallel-item::after {content: \"\";width: 100%;border-bottom: 1px solid gray;flex-grow: 1;}#sk-container-id-1 div.sk-label:hover label.sk-toggleable__label {background-color: #d4ebff;}#sk-container-id-1 div.sk-serial::before {content: \"\";position: absolute;border-left: 1px solid gray;box-sizing: border-box;top: 0;bottom: 0;left: 50%;z-index: 0;}#sk-container-id-1 div.sk-serial {display: flex;flex-direction: column;align-items: center;background-color: white;padding-right: 0.2em;padding-left: 0.2em;position: relative;}#sk-container-id-1 div.sk-item {position: relative;z-index: 1;}#sk-container-id-1 div.sk-parallel {display: flex;align-items: stretch;justify-content: center;background-color: white;position: relative;}#sk-container-id-1 div.sk-item::before, #sk-container-id-1 div.sk-parallel-item::before {content: \"\";position: absolute;border-left: 1px solid gray;box-sizing: border-box;top: 0;bottom: 0;left: 50%;z-index: -1;}#sk-container-id-1 div.sk-parallel-item {display: flex;flex-direction: column;z-index: 1;position: relative;background-color: white;}#sk-container-id-1 div.sk-parallel-item:first-child::after {align-self: flex-end;width: 50%;}#sk-container-id-1 div.sk-parallel-item:last-child::after {align-self: flex-start;width: 50%;}#sk-container-id-1 div.sk-parallel-item:only-child::after {width: 0;}#sk-container-id-1 div.sk-dashed-wrapped {border: 1px dashed gray;margin: 0 0.4em 0.5em 0.4em;box-sizing: border-box;padding-bottom: 0.4em;background-color: white;}#sk-container-id-1 div.sk-label label {font-family: monospace;font-weight: bold;display: inline-block;line-height: 1.2em;}#sk-container-id-1 div.sk-label-container {text-align: center;}#sk-container-id-1 div.sk-container {/* jupyter's `normalize.less` sets `[hidden] { display: none; }` but bootstrap.min.css set `[hidden] { display: none !important; }` so we also need the `!important` here to be able to override the default hidden behavior on the sphinx rendered scikit-learn.org. See: https://github.com/scikit-learn/scikit-learn/issues/21755 */display: inline-block !important;position: relative;}#sk-container-id-1 div.sk-text-repr-fallback {display: none;}</style><div id=\"sk-container-id-1\" class=\"sk-top-container\"><div class=\"sk-text-repr-fallback\"><pre>OrdinalEncoder()</pre><b>In a Jupyter environment, please rerun this cell to show the HTML representation or trust the notebook. <br />On GitHub, the HTML representation is unable to render, please try loading this page with nbviewer.org.</b></div><div class=\"sk-container\" hidden><div class=\"sk-item\"><div class=\"sk-estimator sk-toggleable\"><input class=\"sk-toggleable__control sk-hidden--visually\" id=\"sk-estimator-id-1\" type=\"checkbox\" checked><label for=\"sk-estimator-id-1\" class=\"sk-toggleable__label sk-toggleable__label-arrow\">OrdinalEncoder</label><div class=\"sk-toggleable__content\"><pre>OrdinalEncoder()</pre></div></div></div></div></div>"
      ],
      "text/plain": [
       "OrdinalEncoder()"
      ]
     },
     "execution_count": 7,
     "metadata": {},
     "output_type": "execute_result"
    }
   ],
   "source": [
    "from sklearn.preprocessing import OrdinalEncoder\n",
    "\n",
    "encoder = OrdinalEncoder()\n",
    "\n",
    "encoder.fit(df[categorical_features])"
   ]
  },
  {
   "cell_type": "code",
   "execution_count": 24,
   "id": "66abaff2",
   "metadata": {},
   "outputs": [],
   "source": [
    "import joblib\n",
    "\n",
    "encoder_filename = \"encoder.pkl\"\n",
    "_ = joblib.dump(encoder, encoder_filename)"
   ]
  },
  {
   "cell_type": "code",
   "execution_count": 8,
   "id": "e0353ff3",
   "metadata": {},
   "outputs": [],
   "source": [
    "target = \"loan_status\"\n",
    "\n",
    "transform_training_df=df.copy()\n",
    "transform_training_df[categorical_features] = encoder.transform(\n",
    "    df[categorical_features]\n",
    ")\n",
    "\n",
    "train_X = transform_training_df[\n",
    "    transform_training_df.columns.drop(target)\n",
    "]\n",
    "train_X = train_X.reindex(sorted(train_X.columns), axis=1)\n",
    "train_Y = transform_training_df.loc[:, target]"
   ]
  },
  {
   "cell_type": "code",
   "execution_count": 9,
   "id": "5a61e8f1",
   "metadata": {},
   "outputs": [
    {
     "data": {
      "text/html": [
       "<div>\n",
       "<style scoped>\n",
       "    .dataframe tbody tr th:only-of-type {\n",
       "        vertical-align: middle;\n",
       "    }\n",
       "\n",
       "    .dataframe tbody tr th {\n",
       "        vertical-align: top;\n",
       "    }\n",
       "\n",
       "    .dataframe thead th {\n",
       "        text-align: right;\n",
       "    }\n",
       "</style>\n",
       "<table border=\"1\" class=\"dataframe\">\n",
       "  <thead>\n",
       "    <tr style=\"text-align: right;\">\n",
       "      <th></th>\n",
       "      <th>bankruptcies</th>\n",
       "      <th>city</th>\n",
       "      <th>credit_card_due</th>\n",
       "      <th>hard_pulls</th>\n",
       "      <th>loan_amnt</th>\n",
       "      <th>loan_int_rate</th>\n",
       "      <th>loan_intent</th>\n",
       "      <th>location_type</th>\n",
       "      <th>missed_payments_1y</th>\n",
       "      <th>missed_payments_2y</th>\n",
       "      <th>...</th>\n",
       "      <th>person_age</th>\n",
       "      <th>person_emp_length</th>\n",
       "      <th>person_home_ownership</th>\n",
       "      <th>person_income</th>\n",
       "      <th>population</th>\n",
       "      <th>state</th>\n",
       "      <th>student_loan_due</th>\n",
       "      <th>tax_returns_filed</th>\n",
       "      <th>total_wages</th>\n",
       "      <th>vehicle_loan_due</th>\n",
       "    </tr>\n",
       "  </thead>\n",
       "  <tbody>\n",
       "    <tr>\n",
       "      <th>0</th>\n",
       "      <td>0</td>\n",
       "      <td>2062.0</td>\n",
       "      <td>7649</td>\n",
       "      <td>0</td>\n",
       "      <td>12000</td>\n",
       "      <td>11.11</td>\n",
       "      <td>4.0</td>\n",
       "      <td>0.0</td>\n",
       "      <td>0</td>\n",
       "      <td>0</td>\n",
       "      <td>...</td>\n",
       "      <td>52</td>\n",
       "      <td>3.0</td>\n",
       "      <td>2.0</td>\n",
       "      <td>69996</td>\n",
       "      <td>472</td>\n",
       "      <td>16.0</td>\n",
       "      <td>28579</td>\n",
       "      <td>253</td>\n",
       "      <td>9617849</td>\n",
       "      <td>3583</td>\n",
       "    </tr>\n",
       "    <tr>\n",
       "      <th>1</th>\n",
       "      <td>0</td>\n",
       "      <td>1998.0</td>\n",
       "      <td>5101</td>\n",
       "      <td>6</td>\n",
       "      <td>4000</td>\n",
       "      <td>12.21</td>\n",
       "      <td>4.0</td>\n",
       "      <td>0.0</td>\n",
       "      <td>3</td>\n",
       "      <td>1</td>\n",
       "      <td>...</td>\n",
       "      <td>61</td>\n",
       "      <td>3.0</td>\n",
       "      <td>3.0</td>\n",
       "      <td>10636</td>\n",
       "      <td>1342</td>\n",
       "      <td>43.0</td>\n",
       "      <td>32008</td>\n",
       "      <td>703</td>\n",
       "      <td>38291019</td>\n",
       "      <td>20745</td>\n",
       "    </tr>\n",
       "    <tr>\n",
       "      <th>2</th>\n",
       "      <td>2</td>\n",
       "      <td>6984.0</td>\n",
       "      <td>4223</td>\n",
       "      <td>3</td>\n",
       "      <td>15600</td>\n",
       "      <td>10.99</td>\n",
       "      <td>3.0</td>\n",
       "      <td>0.0</td>\n",
       "      <td>1</td>\n",
       "      <td>5</td>\n",
       "      <td>...</td>\n",
       "      <td>36</td>\n",
       "      <td>0.0</td>\n",
       "      <td>3.0</td>\n",
       "      <td>69000</td>\n",
       "      <td>1578</td>\n",
       "      <td>10.0</td>\n",
       "      <td>24020</td>\n",
       "      <td>824</td>\n",
       "      <td>23478174</td>\n",
       "      <td>11711</td>\n",
       "    </tr>\n",
       "    <tr>\n",
       "      <th>3</th>\n",
       "      <td>0</td>\n",
       "      <td>1697.0</td>\n",
       "      <td>6993</td>\n",
       "      <td>1</td>\n",
       "      <td>12000</td>\n",
       "      <td>13.99</td>\n",
       "      <td>3.0</td>\n",
       "      <td>0.0</td>\n",
       "      <td>0</td>\n",
       "      <td>1</td>\n",
       "      <td>...</td>\n",
       "      <td>36</td>\n",
       "      <td>21.0</td>\n",
       "      <td>3.0</td>\n",
       "      <td>48686</td>\n",
       "      <td>2505</td>\n",
       "      <td>27.0</td>\n",
       "      <td>40529</td>\n",
       "      <td>1353</td>\n",
       "      <td>35505191</td>\n",
       "      <td>17508</td>\n",
       "    </tr>\n",
       "    <tr>\n",
       "      <th>4</th>\n",
       "      <td>0</td>\n",
       "      <td>6014.0</td>\n",
       "      <td>1552</td>\n",
       "      <td>8</td>\n",
       "      <td>8000</td>\n",
       "      <td>17.49</td>\n",
       "      <td>0.0</td>\n",
       "      <td>0.0</td>\n",
       "      <td>0</td>\n",
       "      <td>2</td>\n",
       "      <td>...</td>\n",
       "      <td>36</td>\n",
       "      <td>4.0</td>\n",
       "      <td>3.0</td>\n",
       "      <td>44000</td>\n",
       "      <td>24868</td>\n",
       "      <td>42.0</td>\n",
       "      <td>26664</td>\n",
       "      <td>15882</td>\n",
       "      <td>571965786</td>\n",
       "      <td>19749</td>\n",
       "    </tr>\n",
       "  </tbody>\n",
       "</table>\n",
       "<p>5 rows × 22 columns</p>\n",
       "</div>"
      ],
      "text/plain": [
       "   bankruptcies    city  credit_card_due  hard_pulls  loan_amnt  \\\n",
       "0             0  2062.0             7649           0      12000   \n",
       "1             0  1998.0             5101           6       4000   \n",
       "2             2  6984.0             4223           3      15600   \n",
       "3             0  1697.0             6993           1      12000   \n",
       "4             0  6014.0             1552           8       8000   \n",
       "\n",
       "   loan_int_rate  loan_intent  location_type  missed_payments_1y  \\\n",
       "0          11.11          4.0            0.0                   0   \n",
       "1          12.21          4.0            0.0                   3   \n",
       "2          10.99          3.0            0.0                   1   \n",
       "3          13.99          3.0            0.0                   0   \n",
       "4          17.49          0.0            0.0                   0   \n",
       "\n",
       "   missed_payments_2y  ...  person_age  person_emp_length  \\\n",
       "0                   0  ...          52                3.0   \n",
       "1                   1  ...          61                3.0   \n",
       "2                   5  ...          36                0.0   \n",
       "3                   1  ...          36               21.0   \n",
       "4                   2  ...          36                4.0   \n",
       "\n",
       "   person_home_ownership  person_income  population  state  student_loan_due  \\\n",
       "0                    2.0          69996         472   16.0             28579   \n",
       "1                    3.0          10636        1342   43.0             32008   \n",
       "2                    3.0          69000        1578   10.0             24020   \n",
       "3                    3.0          48686        2505   27.0             40529   \n",
       "4                    3.0          44000       24868   42.0             26664   \n",
       "\n",
       "   tax_returns_filed  total_wages  vehicle_loan_due  \n",
       "0                253      9617849              3583  \n",
       "1                703     38291019             20745  \n",
       "2                824     23478174             11711  \n",
       "3               1353     35505191             17508  \n",
       "4              15882    571965786             19749  \n",
       "\n",
       "[5 rows x 22 columns]"
      ]
     },
     "execution_count": 9,
     "metadata": {},
     "output_type": "execute_result"
    }
   ],
   "source": [
    "train_X.head()"
   ]
  },
  {
   "cell_type": "code",
   "execution_count": 10,
   "id": "4278a517",
   "metadata": {},
   "outputs": [
    {
     "data": {
      "text/plain": [
       "0    0\n",
       "1    1\n",
       "2    0\n",
       "3    0\n",
       "4    1\n",
       "Name: loan_status, dtype: int64"
      ]
     },
     "execution_count": 10,
     "metadata": {},
     "output_type": "execute_result"
    }
   ],
   "source": [
    "train_Y.head()"
   ]
  },
  {
   "cell_type": "code",
   "execution_count": 11,
   "id": "a44f3914",
   "metadata": {},
   "outputs": [],
   "source": [
    "from sklearn.model_selection import train_test_split\n",
    "\n",
    "x_train, x_test, y_train, y_test = train_test_split(train_X, train_Y, test_size=0.10)"
   ]
  },
  {
   "cell_type": "markdown",
   "id": "c5880eb4",
   "metadata": {},
   "source": [
    "# DecisionTreeClassifier"
   ]
  },
  {
   "cell_type": "code",
   "execution_count": 29,
   "id": "a635049a",
   "metadata": {},
   "outputs": [
    {
     "data": {
      "text/html": [
       "<style>#sk-container-id-4 {color: black;background-color: white;}#sk-container-id-4 pre{padding: 0;}#sk-container-id-4 div.sk-toggleable {background-color: white;}#sk-container-id-4 label.sk-toggleable__label {cursor: pointer;display: block;width: 100%;margin-bottom: 0;padding: 0.3em;box-sizing: border-box;text-align: center;}#sk-container-id-4 label.sk-toggleable__label-arrow:before {content: \"▸\";float: left;margin-right: 0.25em;color: #696969;}#sk-container-id-4 label.sk-toggleable__label-arrow:hover:before {color: black;}#sk-container-id-4 div.sk-estimator:hover label.sk-toggleable__label-arrow:before {color: black;}#sk-container-id-4 div.sk-toggleable__content {max-height: 0;max-width: 0;overflow: hidden;text-align: left;background-color: #f0f8ff;}#sk-container-id-4 div.sk-toggleable__content pre {margin: 0.2em;color: black;border-radius: 0.25em;background-color: #f0f8ff;}#sk-container-id-4 input.sk-toggleable__control:checked~div.sk-toggleable__content {max-height: 200px;max-width: 100%;overflow: auto;}#sk-container-id-4 input.sk-toggleable__control:checked~label.sk-toggleable__label-arrow:before {content: \"▾\";}#sk-container-id-4 div.sk-estimator input.sk-toggleable__control:checked~label.sk-toggleable__label {background-color: #d4ebff;}#sk-container-id-4 div.sk-label input.sk-toggleable__control:checked~label.sk-toggleable__label {background-color: #d4ebff;}#sk-container-id-4 input.sk-hidden--visually {border: 0;clip: rect(1px 1px 1px 1px);clip: rect(1px, 1px, 1px, 1px);height: 1px;margin: -1px;overflow: hidden;padding: 0;position: absolute;width: 1px;}#sk-container-id-4 div.sk-estimator {font-family: monospace;background-color: #f0f8ff;border: 1px dotted black;border-radius: 0.25em;box-sizing: border-box;margin-bottom: 0.5em;}#sk-container-id-4 div.sk-estimator:hover {background-color: #d4ebff;}#sk-container-id-4 div.sk-parallel-item::after {content: \"\";width: 100%;border-bottom: 1px solid gray;flex-grow: 1;}#sk-container-id-4 div.sk-label:hover label.sk-toggleable__label {background-color: #d4ebff;}#sk-container-id-4 div.sk-serial::before {content: \"\";position: absolute;border-left: 1px solid gray;box-sizing: border-box;top: 0;bottom: 0;left: 50%;z-index: 0;}#sk-container-id-4 div.sk-serial {display: flex;flex-direction: column;align-items: center;background-color: white;padding-right: 0.2em;padding-left: 0.2em;position: relative;}#sk-container-id-4 div.sk-item {position: relative;z-index: 1;}#sk-container-id-4 div.sk-parallel {display: flex;align-items: stretch;justify-content: center;background-color: white;position: relative;}#sk-container-id-4 div.sk-item::before, #sk-container-id-4 div.sk-parallel-item::before {content: \"\";position: absolute;border-left: 1px solid gray;box-sizing: border-box;top: 0;bottom: 0;left: 50%;z-index: -1;}#sk-container-id-4 div.sk-parallel-item {display: flex;flex-direction: column;z-index: 1;position: relative;background-color: white;}#sk-container-id-4 div.sk-parallel-item:first-child::after {align-self: flex-end;width: 50%;}#sk-container-id-4 div.sk-parallel-item:last-child::after {align-self: flex-start;width: 50%;}#sk-container-id-4 div.sk-parallel-item:only-child::after {width: 0;}#sk-container-id-4 div.sk-dashed-wrapped {border: 1px dashed gray;margin: 0 0.4em 0.5em 0.4em;box-sizing: border-box;padding-bottom: 0.4em;background-color: white;}#sk-container-id-4 div.sk-label label {font-family: monospace;font-weight: bold;display: inline-block;line-height: 1.2em;}#sk-container-id-4 div.sk-label-container {text-align: center;}#sk-container-id-4 div.sk-container {/* jupyter's `normalize.less` sets `[hidden] { display: none; }` but bootstrap.min.css set `[hidden] { display: none !important; }` so we also need the `!important` here to be able to override the default hidden behavior on the sphinx rendered scikit-learn.org. See: https://github.com/scikit-learn/scikit-learn/issues/21755 */display: inline-block !important;position: relative;}#sk-container-id-4 div.sk-text-repr-fallback {display: none;}</style><div id=\"sk-container-id-4\" class=\"sk-top-container\"><div class=\"sk-text-repr-fallback\"><pre>DecisionTreeClassifier(max_depth=22)</pre><b>In a Jupyter environment, please rerun this cell to show the HTML representation or trust the notebook. <br />On GitHub, the HTML representation is unable to render, please try loading this page with nbviewer.org.</b></div><div class=\"sk-container\" hidden><div class=\"sk-item\"><div class=\"sk-estimator sk-toggleable\"><input class=\"sk-toggleable__control sk-hidden--visually\" id=\"sk-estimator-id-4\" type=\"checkbox\" checked><label for=\"sk-estimator-id-4\" class=\"sk-toggleable__label sk-toggleable__label-arrow\">DecisionTreeClassifier</label><div class=\"sk-toggleable__content\"><pre>DecisionTreeClassifier(max_depth=22)</pre></div></div></div></div></div>"
      ],
      "text/plain": [
       "DecisionTreeClassifier(max_depth=22)"
      ]
     },
     "execution_count": 29,
     "metadata": {},
     "output_type": "execute_result"
    }
   ],
   "source": [
    "from sklearn.tree import DecisionTreeClassifier\n",
    "\n",
    "max_depth = 22\n",
    "\n",
    "classifier = DecisionTreeClassifier(max_depth = max_depth)\n",
    "classifier.fit(x_train, y_train)"
   ]
  },
  {
   "cell_type": "code",
   "execution_count": 30,
   "id": "6dab4111",
   "metadata": {},
   "outputs": [],
   "source": [
    "DTC_filename = \"DTC.pkl\"\n",
    "_ = joblib.dump(classifier, DTC_filename)"
   ]
  },
  {
   "cell_type": "code",
   "execution_count": 13,
   "id": "1cbe9c35",
   "metadata": {},
   "outputs": [],
   "source": [
    "X[categorical_features] = encoder.transform(X[categorical_features])\n",
    "X = X.reindex(sorted(X.columns), axis=1)"
   ]
  },
  {
   "cell_type": "code",
   "execution_count": 14,
   "id": "e919d482",
   "metadata": {},
   "outputs": [],
   "source": [
    "predictions = classifier.predict(X)"
   ]
  },
  {
   "cell_type": "code",
   "execution_count": 15,
   "id": "3f7d899a",
   "metadata": {},
   "outputs": [
    {
     "name": "stdout",
     "output_type": "stream",
     "text": [
      "0.9847056358684265\n"
     ]
    }
   ],
   "source": [
    "from sklearn.metrics import accuracy_score, make_scorer\n",
    "\n",
    "accuracy = accuracy_score(y_true=y, y_pred = predictions)\n",
    "print(accuracy)"
   ]
  },
  {
   "cell_type": "code",
   "execution_count": 16,
   "id": "2a608e7b",
   "metadata": {},
   "outputs": [
    {
     "name": "stdout",
     "output_type": "stream",
     "text": [
      "0.8851256983240223\n"
     ]
    }
   ],
   "source": [
    "predictions = classifier.predict(x_test)\n",
    "\n",
    "accuracy = accuracy_score(y_true=y_test, y_pred = predictions)\n",
    "print(accuracy)"
   ]
  },
  {
   "cell_type": "markdown",
   "id": "2829bf95",
   "metadata": {},
   "source": [
    "# GradientBoostingClassifier"
   ]
  },
  {
   "cell_type": "code",
   "execution_count": 27,
   "id": "86b256cc",
   "metadata": {},
   "outputs": [],
   "source": [
    "from sklearn.ensemble import GradientBoostingClassifier\n",
    "\n",
    "clf = GradientBoostingClassifier().fit(x_train, y_train)"
   ]
  },
  {
   "cell_type": "code",
   "execution_count": 28,
   "id": "38c859e7",
   "metadata": {},
   "outputs": [],
   "source": [
    "GBC_filename = \"GBC.pkl\"\n",
    "_ = joblib.dump(clf, GBC_filename)"
   ]
  },
  {
   "cell_type": "code",
   "execution_count": 21,
   "id": "830e40e3",
   "metadata": {},
   "outputs": [],
   "source": [
    "predictions = clf.predict(X)"
   ]
  },
  {
   "cell_type": "code",
   "execution_count": 22,
   "id": "6b23329b",
   "metadata": {},
   "outputs": [
    {
     "name": "stdout",
     "output_type": "stream",
     "text": [
      "0.9192331866750472\n"
     ]
    }
   ],
   "source": [
    "from sklearn.metrics import accuracy_score, make_scorer\n",
    "\n",
    "accuracy = accuracy_score(y_true=y, y_pred = predictions)\n",
    "print(accuracy)"
   ]
  },
  {
   "cell_type": "code",
   "execution_count": 23,
   "id": "5377d219",
   "metadata": {},
   "outputs": [
    {
     "name": "stdout",
     "output_type": "stream",
     "text": [
      "0.910963687150838\n"
     ]
    }
   ],
   "source": [
    "predictions = clf.predict(x_test)\n",
    "\n",
    "accuracy = accuracy_score(y_true=y_test, y_pred = predictions)\n",
    "print(accuracy)"
   ]
  },
  {
   "cell_type": "code",
   "execution_count": 31,
   "id": "a66309e5",
   "metadata": {},
   "outputs": [
    {
     "data": {
      "text/plain": [
       "array([0, 0, 0, ..., 0, 0, 1], dtype=int64)"
      ]
     },
     "execution_count": 31,
     "metadata": {},
     "output_type": "execute_result"
    }
   ],
   "source": [
    "predictions"
   ]
  },
  {
   "cell_type": "code",
   "execution_count": null,
   "id": "d71bc652",
   "metadata": {},
   "outputs": [],
   "source": []
  },
  {
   "cell_type": "code",
   "execution_count": 32,
   "id": "bf7dac45",
   "metadata": {},
   "outputs": [],
   "source": [
    "model = joblib.load(\"DTC.pkl\")"
   ]
  },
  {
   "cell_type": "code",
   "execution_count": 34,
   "id": "05e35749",
   "metadata": {},
   "outputs": [],
   "source": [
    "predictions = model.predict(X)"
   ]
  },
  {
   "cell_type": "code",
   "execution_count": 35,
   "id": "f8c2fe31",
   "metadata": {},
   "outputs": [
    {
     "data": {
      "text/plain": [
       "array([0, 1, 0, ..., 0, 1, 1], dtype=int64)"
      ]
     },
     "execution_count": 35,
     "metadata": {},
     "output_type": "execute_result"
    }
   ],
   "source": [
    "predictions"
   ]
  },
  {
   "cell_type": "code",
   "execution_count": null,
   "id": "ed9ac131",
   "metadata": {},
   "outputs": [],
   "source": []
  },
  {
   "cell_type": "code",
   "execution_count": null,
   "id": "35e8926d",
   "metadata": {},
   "outputs": [],
   "source": []
  },
  {
   "cell_type": "code",
   "execution_count": null,
   "id": "1c054d7c",
   "metadata": {},
   "outputs": [],
   "source": []
  },
  {
   "cell_type": "code",
   "execution_count": null,
   "id": "15f6c01e",
   "metadata": {},
   "outputs": [],
   "source": [
    "class DTCModel(object):  \n",
    "    \n",
    "    def __init__(self):\n",
    "        \n",
    "        import pandas as pd\n",
    "        from sklearn.tree import DecisionTreeClassifier\n",
    "        from sklearn.preprocessing import OrdinalEncoder\n",
    "        \n",
    "        self.categorical_features = [\n",
    "            \"person_home_ownership\",\n",
    "            \"loan_intent\",\n",
    "            \"city\",\n",
    "            \"state\",\n",
    "            \"location_type\",\n",
    "        ]\n",
    "        \n",
    "        self.encoder = joblib.load(\"encoder.pkl\")\n",
    "        \n",
    "        print(\"Encoder loaded\")\n",
    "        \n",
    "        self.model = joblib.load(\"DTC.pkl\")\n",
    "        \n",
    "        print(\"Model loaded\")\n",
    "\n",
    "    def predict(self,X,features_names):\n",
    "\n",
    "        df = pd.Dataframe(X, columns=features_names)\n",
    "        \n",
    "        df[self.categorical_features] = self.encoder.transform(df[self.categorical_features])\n",
    "        df = df.reindex(sorted(df.columns), axis=1)\n",
    "        \n",
    "        predictions = self.model.predict(df)\n",
    "        \n",
    "        return predictions\n",
    "\n",
    "    def send_feedback(self,features,feature_names,reward,truth,routing):\n",
    "        \"\"\"\n",
    "        Handle feedback\n",
    "\n",
    "        Parameters\n",
    "        ----------\n",
    "        features : array - the features sent in the original predict request\n",
    "        feature_names : array of feature names. May be None if not available.\n",
    "        reward : float - the reward\n",
    "        truth : array with correct value (optional)\n",
    "        \"\"\"\n",
    "        print(\"Send feedback called\")\n",
    "        return []"
   ]
  },
  {
   "cell_type": "code",
   "execution_count": null,
   "id": "7201001b",
   "metadata": {},
   "outputs": [],
   "source": [
    "class GBCModel(object):  \n",
    "    \n",
    "    def __init__(self):\n",
    "        \n",
    "        import pandas as pd\n",
    "        from sklearn.ensemble import GradientBoostingClassifier\n",
    "        from sklearn.preprocessing import OrdinalEncoder\n",
    "\n",
    "        \n",
    "        self.categorical_features = [\n",
    "            \"person_home_ownership\",\n",
    "            \"loan_intent\",\n",
    "            \"city\",\n",
    "            \"state\",\n",
    "            \"location_type\",\n",
    "        ]\n",
    "        \n",
    "        self.encoder = joblib.load(\"encoder.pkl\")\n",
    "        \n",
    "        print(\"Encoder loaded\")\n",
    "        \n",
    "        self.model = joblib.load(\"GBC.pkl\")\n",
    "        \n",
    "        print(\"Model loaded\")\n",
    "\n",
    "    def predict(self,X,features_names):\n",
    "\n",
    "        df = pd.Dataframe(X, columns=features_names)\n",
    "        \n",
    "        df[self.categorical_features] = self.encoder.transform(df[self.categorical_features])\n",
    "        df = df.reindex(sorted(df.columns), axis=1)\n",
    "        \n",
    "        predictions = self.model.predict(df)\n",
    "        \n",
    "        return predictions\n",
    "\n",
    "    def send_feedback(self,features,feature_names,reward,truth,routing):\n",
    "        \"\"\"\n",
    "        Handle feedback\n",
    "\n",
    "        Parameters\n",
    "        ----------\n",
    "        features : array - the features sent in the original predict request\n",
    "        feature_names : array of feature names. May be None if not available.\n",
    "        reward : float - the reward\n",
    "        truth : array with correct value (optional)\n",
    "        \"\"\"\n",
    "        print(\"Send feedback called\")\n",
    "        return []"
   ]
  }
 ],
 "metadata": {
  "kernelspec": {
   "display_name": "Python 3 (ipykernel)",
   "language": "python",
   "name": "python3"
  },
  "language_info": {
   "codemirror_mode": {
    "name": "ipython",
    "version": 3
   },
   "file_extension": ".py",
   "mimetype": "text/x-python",
   "name": "python",
   "nbconvert_exporter": "python",
   "pygments_lexer": "ipython3",
   "version": "3.9.12"
  }
 },
 "nbformat": 4,
 "nbformat_minor": 5
}
